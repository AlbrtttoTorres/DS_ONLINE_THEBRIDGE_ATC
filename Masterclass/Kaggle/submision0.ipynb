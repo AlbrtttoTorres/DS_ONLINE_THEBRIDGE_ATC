{
 "cells": [
  {
   "cell_type": "code",
   "execution_count": 1,
   "metadata": {},
   "outputs": [
    {
     "name": "stdout",
     "output_type": "stream",
     "text": [
      "RMSE en validación: 354.0528680070684\n"
     ]
    }
   ],
   "source": [
    "\n",
    "import numpy as np\n",
    "import pandas as pd\n",
    "import re\n",
    "from sklearn.model_selection import train_test_split\n",
    "from sklearn.preprocessing import StandardScaler, OneHotEncoder\n",
    "from sklearn.compose import ColumnTransformer\n",
    "from sklearn.pipeline import Pipeline\n",
    "from sklearn.ensemble import RandomForestRegressor\n",
    "from sklearn.metrics import mean_squared_error\n",
    "import urllib.request\n",
    "\n",
    "\n",
    "# Cargar los datos\n",
    "train_df = pd.read_csv(r'C:\\Users\\alber\\OneDrive\\Documentos\\GitHub\\DS_ONLINE_THEBRIDGE_ATC\\Masterclass\\Kaggle\\data\\train.csv', index_col=\"laptop_ID\")\n",
    "test_df = pd.read_csv(r'C:\\Users\\alber\\OneDrive\\Documentos\\GitHub\\DS_ONLINE_THEBRIDGE_ATC\\Masterclass\\Kaggle\\data\\test.csv', index_col=\"laptop_ID\")\n",
    "\n",
    "# Limpiar la columna Weight (eliminar 'kg' y convertir a float)\n",
    "def clean_weight(value):\n",
    "    return float(re.sub(\"[^0-9.]\", \"\", value))\n",
    "\n",
    "train_df[\"Weight\"] = train_df[\"Weight\"].apply(clean_weight)\n",
    "test_df[\"Weight\"] = test_df[\"Weight\"].apply(clean_weight)\n",
    "\n",
    "# Definir X e y\n",
    "X = train_df.drop(columns=['Price_in_euros'])\n",
    "y = train_df['Price_in_euros'].copy()\n",
    "\n",
    "# Dividir datos en train y test\n",
    "X_train, X_val, y_train, y_val = train_test_split(X, y, test_size=0.2, random_state=42)\n",
    "\n",
    "# Identificar variables numéricas y categóricas\n",
    "numeric_features = [\"Inches\", \"Weight\"]\n",
    "categorical_features = [\"Company\", \"TypeName\", \"ScreenResolution\", \"Cpu\", \"Ram\", \"Memory\", \"Gpu\", \"OpSys\"]\n",
    "\n",
    "# Transformaciones\n",
    "preprocessor = ColumnTransformer([\n",
    "    (\"num\", StandardScaler(), numeric_features),\n",
    "    (\"cat\", OneHotEncoder(handle_unknown=\"ignore\"), categorical_features)\n",
    "])\n",
    "\n",
    "# Modelo optimizado\n",
    "model = Pipeline([\n",
    "    (\"preprocessor\", preprocessor),\n",
    "    (\"regressor\", RandomForestRegressor(n_estimators=300, max_depth=15, random_state=42))\n",
    "])\n",
    "\n",
    "# Entrenamiento\n",
    "model.fit(X_train, y_train)\n",
    "\n",
    "# Evaluación\n",
    "y_pred = model.predict(X_val)\n",
    "rmse = np.sqrt(mean_squared_error(y_val, y_pred))\n",
    "print(f\"RMSE en validación: {rmse}\")\n",
    "\n",
    "# Predicción sobre test.csv\n",
    "X_test = test_df.copy()\n",
    "predictions = model.predict(X_test)\n",
    "\n",
    "# Generar archivo de submission\n",
    "submission = pd.DataFrame({\n",
    "    \"laptop_ID\": X_test.index,\n",
    "    \"Price_euros\": predictions\n",
    "})\n"
   ]
  },
  {
   "cell_type": "code",
   "execution_count": 13,
   "metadata": {},
   "outputs": [],
   "source": [
    "sample = pd.DataFrame({\"laptop_ID\": X_test.index, \"Price_in_euros\": predictions})"
   ]
  },
  {
   "cell_type": "code",
   "execution_count": 8,
   "metadata": {},
   "outputs": [],
   "source": [
    "submission = pd.DataFrame({\"laptop_ID\": X_test.index, \"Price_in_euros\": predictions})"
   ]
  },
  {
   "cell_type": "code",
   "execution_count": 9,
   "metadata": {},
   "outputs": [
    {
     "data": {
      "text/html": [
       "<div>\n",
       "<style scoped>\n",
       "    .dataframe tbody tr th:only-of-type {\n",
       "        vertical-align: middle;\n",
       "    }\n",
       "\n",
       "    .dataframe tbody tr th {\n",
       "        vertical-align: top;\n",
       "    }\n",
       "\n",
       "    .dataframe thead th {\n",
       "        text-align: right;\n",
       "    }\n",
       "</style>\n",
       "<table border=\"1\" class=\"dataframe\">\n",
       "  <thead>\n",
       "    <tr style=\"text-align: right;\">\n",
       "      <th></th>\n",
       "      <th>laptop_ID</th>\n",
       "      <th>Price_in_euros</th>\n",
       "    </tr>\n",
       "  </thead>\n",
       "  <tbody>\n",
       "    <tr>\n",
       "      <th>0</th>\n",
       "      <td>209</td>\n",
       "      <td>1818.161916</td>\n",
       "    </tr>\n",
       "    <tr>\n",
       "      <th>1</th>\n",
       "      <td>1281</td>\n",
       "      <td>306.086418</td>\n",
       "    </tr>\n",
       "    <tr>\n",
       "      <th>2</th>\n",
       "      <td>1168</td>\n",
       "      <td>383.878043</td>\n",
       "    </tr>\n",
       "    <tr>\n",
       "      <th>3</th>\n",
       "      <td>1231</td>\n",
       "      <td>995.600258</td>\n",
       "    </tr>\n",
       "    <tr>\n",
       "      <th>4</th>\n",
       "      <td>1020</td>\n",
       "      <td>797.081505</td>\n",
       "    </tr>\n",
       "  </tbody>\n",
       "</table>\n",
       "</div>"
      ],
      "text/plain": [
       "   laptop_ID  Price_in_euros\n",
       "0        209     1818.161916\n",
       "1       1281      306.086418\n",
       "2       1168      383.878043\n",
       "3       1231      995.600258\n",
       "4       1020      797.081505"
      ]
     },
     "execution_count": 9,
     "metadata": {},
     "output_type": "execute_result"
    }
   ],
   "source": [
    "submission.head()"
   ]
  },
  {
   "cell_type": "code",
   "execution_count": 10,
   "metadata": {},
   "outputs": [
    {
     "data": {
      "text/plain": [
       "(391, 2)"
      ]
     },
     "execution_count": 10,
     "metadata": {},
     "output_type": "execute_result"
    }
   ],
   "source": [
    "submission.shape"
   ]
  },
  {
   "cell_type": "code",
   "execution_count": 11,
   "metadata": {},
   "outputs": [],
   "source": [
    "def chequeador(df_to_submit):\n",
    "    \"\"\"\n",
    "    Esta función se asegura de que tu submission tenga la forma requerida por Kaggle.\n",
    "    \n",
    "    Si es así, se guardará el dataframe en un `csv` y estará listo para subir a Kaggle.\n",
    "    \n",
    "    Si no, LEE EL MENSAJE Y HAZLE CASO.\n",
    "    \n",
    "    Si aún no:\n",
    "    - apaga tu ordenador, \n",
    "    - date una vuelta, \n",
    "    - enciendelo otra vez, \n",
    "    - abre este notebook y \n",
    "    - leelo todo de nuevo. \n",
    "    Todos nos merecemos una segunda oportunidad. También tú.\n",
    "    \"\"\"\n",
    "    if df_to_submit.shape == sample.shape:\n",
    "        if df_to_submit.columns.all() == sample.columns.all():\n",
    "            if df_to_submit.laptop_ID.all() == sample.laptop_ID.all():\n",
    "                print(\"You're ready to submit!\")\n",
    "                submission.to_csv(\"submission3.csv\", index = False) #muy importante el index = False\n",
    "                urllib.request.urlretrieve(\"https://www.mihaileric.com/static/evaluation-meme-e0a350f278a36346e6d46b139b1d0da0-ed51e.jpg\", \"gfg.png\")     \n",
    "                img = Image.open(\"gfg.png\")\n",
    "                img.show()   \n",
    "            else:\n",
    "                print(\"Check the ids and try again\")\n",
    "        else:\n",
    "            print(\"Check the names of the columns and try again\")\n",
    "    else:\n",
    "        print(\"Check the number of rows and/or columns and try again\")\n",
    "        print(\"\\nMensaje secreto del TA: No me puedo creer que después de todo este notebook hayas hecho algún cambio en las filas de `test.csv`. Lloro.\")"
   ]
  },
  {
   "cell_type": "code",
   "execution_count": 14,
   "metadata": {},
   "outputs": [
    {
     "name": "stdout",
     "output_type": "stream",
     "text": [
      "You're ready to submit!\n"
     ]
    },
    {
     "ename": "NameError",
     "evalue": "name 'urllib' is not defined",
     "output_type": "error",
     "traceback": [
      "\u001b[1;31m---------------------------------------------------------------------------\u001b[0m",
      "\u001b[1;31mNameError\u001b[0m                                 Traceback (most recent call last)",
      "Cell \u001b[1;32mIn[14], line 1\u001b[0m\n\u001b[1;32m----> 1\u001b[0m \u001b[43mchequeador\u001b[49m\u001b[43m(\u001b[49m\u001b[43msubmission\u001b[49m\u001b[43m)\u001b[49m\n",
      "Cell \u001b[1;32mIn[11], line 22\u001b[0m, in \u001b[0;36mchequeador\u001b[1;34m(df_to_submit)\u001b[0m\n\u001b[0;32m     20\u001b[0m \u001b[38;5;28mprint\u001b[39m(\u001b[38;5;124m\"\u001b[39m\u001b[38;5;124mYou\u001b[39m\u001b[38;5;124m'\u001b[39m\u001b[38;5;124mre ready to submit!\u001b[39m\u001b[38;5;124m\"\u001b[39m)\n\u001b[0;32m     21\u001b[0m submission\u001b[38;5;241m.\u001b[39mto_csv(\u001b[38;5;124m\"\u001b[39m\u001b[38;5;124msubmission3.csv\u001b[39m\u001b[38;5;124m\"\u001b[39m, index \u001b[38;5;241m=\u001b[39m \u001b[38;5;28;01mFalse\u001b[39;00m) \u001b[38;5;66;03m#muy importante el index = False\u001b[39;00m\n\u001b[1;32m---> 22\u001b[0m \u001b[43murllib\u001b[49m\u001b[38;5;241m.\u001b[39mrequest\u001b[38;5;241m.\u001b[39murlretrieve(\u001b[38;5;124m\"\u001b[39m\u001b[38;5;124mhttps://www.mihaileric.com/static/evaluation-meme-e0a350f278a36346e6d46b139b1d0da0-ed51e.jpg\u001b[39m\u001b[38;5;124m\"\u001b[39m, \u001b[38;5;124m\"\u001b[39m\u001b[38;5;124mgfg.png\u001b[39m\u001b[38;5;124m\"\u001b[39m)     \n\u001b[0;32m     23\u001b[0m img \u001b[38;5;241m=\u001b[39m Image\u001b[38;5;241m.\u001b[39mopen(\u001b[38;5;124m\"\u001b[39m\u001b[38;5;124mgfg.png\u001b[39m\u001b[38;5;124m\"\u001b[39m)\n\u001b[0;32m     24\u001b[0m img\u001b[38;5;241m.\u001b[39mshow()   \n",
      "\u001b[1;31mNameError\u001b[0m: name 'urllib' is not defined"
     ]
    }
   ],
   "source": [
    "chequeador(submission)"
   ]
  }
 ],
 "metadata": {
  "kernelspec": {
   "display_name": "Mapache",
   "language": "python",
   "name": "python3"
  },
  "language_info": {
   "codemirror_mode": {
    "name": "ipython",
    "version": 3
   },
   "file_extension": ".py",
   "mimetype": "text/x-python",
   "name": "python",
   "nbconvert_exporter": "python",
   "pygments_lexer": "ipython3",
   "version": "3.12.7"
  }
 },
 "nbformat": 4,
 "nbformat_minor": 2
}
