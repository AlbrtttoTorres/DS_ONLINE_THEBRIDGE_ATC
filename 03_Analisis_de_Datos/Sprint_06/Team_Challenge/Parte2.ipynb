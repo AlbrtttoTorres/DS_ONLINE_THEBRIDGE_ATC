{
 "cells": [
  {
   "cell_type": "code",
   "execution_count": 6,
   "metadata": {},
   "outputs": [],
   "source": [
    "def run_query(query, conn):\n",
    "    \"\"\"\n",
    "    Ejecuta una consulta SQL y devuelve los resultados en un DataFrame de pandas.\n",
    "    \"\"\"\n",
    "    return pd.read_sql(query, conn)\n"
   ]
  },
  {
   "cell_type": "code",
   "execution_count": null,
   "metadata": {},
   "outputs": [],
   "source": [
    "query = \"\"\"CREATE TABLE Proveedores (\n",
    "    ID_Proveedor INTEGER PRIMARY KEY,\n",
    "    Nombre TEXT NOT NULL,\n",
    "    Direccion TEXT,\n",
    "    Ciudad TEXT,\n",
    "    Provincia TEXT\n",
    ");\n",
    "\"\"\"\n",
    "\n"
   ]
  },
  {
   "cell_type": "code",
   "execution_count": null,
   "metadata": {},
   "outputs": [],
   "source": [
    "query = \"\"\"CREATE TABLE Categorias (\n",
    "    ID_Categoria INTEGER PRIMARY KEY,\n",
    "    Nombre_pieza TEXT NOT NULL\n",
    ");\n",
    "\"\"\""
   ]
  },
  {
   "cell_type": "code",
   "execution_count": null,
   "metadata": {},
   "outputs": [],
   "source": [
    "query = \"\"\"CREATE TABLE Piezas (\n",
    "    ID_Pieza INTEGER PRIMARY KEY,\n",
    "    Nombre TEXT NOT NULL,\n",
    "    Color TEXT,\n",
    "    Precio DECIMAL(10, 2) NOT NULL,\n",
    "    ID_Categoria INTEGER NOT NULL,\n",
    "    FOREIGN KEY (ID_Categoria) REFERENCES Categorias(ID_Categoria)\n",
    ");\n",
    "\"\"\""
   ]
  },
  {
   "cell_type": "code",
   "execution_count": null,
   "metadata": {},
   "outputs": [],
   "source": [
    "query = \"\"\"CREATE TABLE Suministros (\n",
    "    ID_Proveedor INTEGER NOT NULL,\n",
    "    ID_Pieza INTEGER NOT NULL,\n",
    "    fecha_suministro DATE NOT NULL,\n",
    "    cantidad INTEGER NOT NULL,\n",
    "    PRIMARY KEY (ID_Proveedor, ID_Pieza, fecha_suministro),\n",
    "    FOREIGN KEY (ID_Proveedor) REFERENCES Proveedores(ID_Proveedor),\n",
    "    FOREIGN KEY (ID_Pieza) REFERENCES Piezas(ID_Pieza)\n",
    ");\n",
    "\"\"\""
   ]
  }
 ],
 "metadata": {
  "kernelspec": {
   "display_name": "Mapache",
   "language": "python",
   "name": "python3"
  },
  "language_info": {
   "codemirror_mode": {
    "name": "ipython",
    "version": 3
   },
   "file_extension": ".py",
   "mimetype": "text/x-python",
   "name": "python",
   "nbconvert_exporter": "python",
   "pygments_lexer": "ipython3",
   "version": "3.12.7"
  }
 },
 "nbformat": 4,
 "nbformat_minor": 2
}
