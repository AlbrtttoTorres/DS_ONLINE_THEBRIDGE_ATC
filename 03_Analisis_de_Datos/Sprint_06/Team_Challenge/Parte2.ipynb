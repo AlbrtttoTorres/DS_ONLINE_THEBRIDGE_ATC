{
 "cells": [
  {
   "cell_type": "code",
   "execution_count": 6,
   "metadata": {},
   "outputs": [],
   "source": [
    "def run_query(query, conn):\n",
    "    \"\"\"\n",
    "    Ejecuta una consulta SQL y devuelve los resultados en un DataFrame de pandas.\n",
    "    \"\"\"\n",
    "    return pd.read_sql(query, conn)\n"
   ]
  },
  {
   "cell_type": "code",
   "execution_count": 7,
   "metadata": {},
   "outputs": [],
   "source": [
    "query = \"\"\"CREATE TABLE Proveedores (\n",
    "    codigo_proveedor INT PRIMARY KEY,\n",
    "    nombre VARCHAR(100) NOT NULL,\n",
    "    direccion VARCHAR(255),\n",
    "    ciudad VARCHAR(100),\n",
    "    provincia VARCHAR(100)\n",
    ");\n",
    "\"\"\"\n",
    "\n"
   ]
  },
  {
   "cell_type": "code",
   "execution_count": null,
   "metadata": {},
   "outputs": [],
   "source": [
    "query = \"\"\"CREATE TABLE Categorias (\n",
    "    codigo_categoria INT PRIMARY KEY,\n",
    "    nombre VARCHAR(100) NOT NULL\n",
    ");\n",
    "\"\"\""
   ]
  },
  {
   "cell_type": "code",
   "execution_count": null,
   "metadata": {},
   "outputs": [],
   "source": [
    "query = \"\"\"CREATE TABLE Piezas (\n",
    "    codigo_pieza INT PRIMARY KEY,\n",
    "    nombre VARCHAR(100) NOT NULL,\n",
    "    color VARCHAR(50),\n",
    "    precio DECIMAL(10, 2) NOT NULL,\n",
    "    codigo_categoria INT NOT NULL,\n",
    "    FOREIGN KEY (codigo_categoria) REFERENCES Categorias(codigo_categoria)\n",
    ");\n",
    "\"\"\""
   ]
  },
  {
   "cell_type": "code",
   "execution_count": null,
   "metadata": {},
   "outputs": [],
   "source": [
    "query = \"\"\"CREATE TABLE Suministros (\n",
    "    codigo_proveedor INT NOT NULL,\n",
    "    codigo_pieza INT NOT NULL,\n",
    "    fecha_suministro DATE NOT NULL,\n",
    "    cantidad INT NOT NULL,\n",
    "    PRIMARY KEY (codigo_proveedor, codigo_pieza, fecha_suministro),\n",
    "    FOREIGN KEY (codigo_proveedor) REFERENCES Proveedores(codigo_proveedor),\n",
    "    FOREIGN KEY (codigo_pieza) REFERENCES Piezas(codigo_pieza)\n",
    ");\n",
    "\"\"\""
   ]
  }
 ],
 "metadata": {
  "kernelspec": {
   "display_name": "Mapache",
   "language": "python",
   "name": "python3"
  },
  "language_info": {
   "codemirror_mode": {
    "name": "ipython",
    "version": 3
   },
   "file_extension": ".py",
   "mimetype": "text/x-python",
   "name": "python",
   "nbconvert_exporter": "python",
   "pygments_lexer": "ipython3",
   "version": "3.12.7"
  }
 },
 "nbformat": 4,
 "nbformat_minor": 2
}
